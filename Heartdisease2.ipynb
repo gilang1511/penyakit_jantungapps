{
 "cells": [
  {
   "cell_type": "code",
   "execution_count": 59,
   "id": "6be0c8c8-6fc4-4c08-9be9-635dad5a4f8d",
   "metadata": {},
   "outputs": [],
   "source": [
    "# Tahapan sebelumnya\n",
    "import numpy as np\n",
    "import pandas as pd\n",
    "import math\n",
    "import random\n",
    "import seaborn as sns\n",
    "from scipy.stats import pearsonr, jarque_bera\n",
    "import matplotlib.pyplot as plt\n",
    "from sklearn.preprocessing import StandardScaler\n",
    "from sklearn.model_selection import train_test_split\n",
    "from sklearn import tree\n",
    "from sklearn.ensemble import RandomForestClassifier\n",
    "from sklearn.tree import DecisionTreeClassifier\n",
    "from sklearn.decomposition import PCA\n",
    "from sklearn.metrics import accuracy_score, confusion_matrix, precision_score, recall_score, classification_report, confusion_matrix, f1_score\n",
    "from sklearn.model_selection import cross_val_score\n",
    "import warnings\n",
    "warnings.filterwarnings(\"ignore\")\n",
    "\n",
    "%matplotlib inline\n",
    "\n",
    "# Memuat dataset yang sudah rapi ditahapan sebelumnya\n",
    "data = \"data.csv\"\n",
    "df = pd.read_csv(data, index_col=0)\n",
    "df['sex'] = df['sex'].replace({'Male' : 1,'Female': 0})\n",
    "df['cp'] = df['cp'].replace({'typical angina' : 0, 'atypical angina' : 1, 'non-anginal pain' : 2, 'asymtomatic' : 3})\n",
    "df['fbs'] = df['fbs'].replace({'No' : 0, 'Yes' : 1})\n",
    "df['restecg'] = df['restecg'].replace({'probable or definite left ventricular hypertrophy':0,'normal':1,'ST-T Wave abnormal':2})\n",
    "df['exang'] = df['exang'].replace({'No':0,'Yes':1})\n",
    "df['slope'] = df['slope'].replace({'downsloping':0, 'flat':1,'upsloping':2})\n",
    "df['thal'] = df['thal'].replace({'normal':1, 'fixed defect':2,'reversable defect':3})\n",
    "df['ca'] = df['ca'].replace({'Number of major vessels: 0':0, 'Number of major vessels: 1':1,'Number of major vessels: 2':2, 'Number of major vessels: 3':3})\n",
    "df['target'] = df['target'].replace({'No disease':0,'Disease':1})\n",
    "\n",
    "# Variabel terpilih berdasarkan analisis sebelumnya\n",
    "selected_features = ['age', 'sex', 'cp', 'trestbps', 'chol', 'fbs', 'restecg', 'thalach', 'exang', 'oldpeak', 'slope', 'ca', 'thal']\n",
    "\n",
    "# Memilih kolom-kolom yang relevan\n",
    "df = df[selected_features + ['target']]"
   ]
  },
  {
   "cell_type": "code",
   "execution_count": null,
   "id": "b4adabc5-60a8-415d-a5a0-b553e7d8a87d",
   "metadata": {},
   "outputs": [
    {
     "name": "stdout",
     "output_type": "stream",
     "text": [
      "<class 'pandas.core.frame.DataFrame'>\n",
      "Index: 283 entries, 0 to 878\n",
      "Data columns (total 14 columns):\n",
      " #   Column    Non-Null Count  Dtype  \n",
      "---  ------    --------------  -----  \n",
      " 0   age       283 non-null    int64  \n",
      " 1   sex       283 non-null    int64  \n",
      " 2   cp        283 non-null    int64  \n",
      " 3   trestbps  283 non-null    int64  \n",
      " 4   chol      283 non-null    int64  \n",
      " 5   fbs       283 non-null    int64  \n",
      " 6   restecg   283 non-null    int64  \n",
      " 7   thalach   283 non-null    int64  \n",
      " 8   exang     283 non-null    int64  \n",
      " 9   oldpeak   283 non-null    float64\n",
      " 10  slope     283 non-null    int64  \n",
      " 11  ca        283 non-null    int64  \n",
      " 12  thal      283 non-null    int64  \n",
      " 13  target    283 non-null    int64  \n",
      "dtypes: float64(1), int64(13)\n",
      "memory usage: 33.2 KB\n",
      "None\n",
      "   age  sex  cp  trestbps  chol  fbs  restecg  thalach  exang  oldpeak  slope  \\\n",
      "0   52    1   0       125   212    0        1      168      0      1.0      2   \n",
      "1   53    1   0       140   203    1        0      155      1      3.1      0   \n",
      "2   70    1   0       145   174    0        1      125      1      2.6      0   \n",
      "3   61    1   0       148   203    0        1      161      0      0.0      2   \n",
      "4   62    0   0       138   294    1        1      106      0      1.9      1   \n",
      "\n",
      "   ca  thal  target  \n",
      "0   2     3       0  \n",
      "1   0     3       0  \n",
      "2   0     3       0  \n",
      "3   1     3       0  \n",
      "4   3     2       0  \n"
     ]
    }
   ],
   "source": [
    "# Liat informasi dari dataset yang  dimiliki\n",
    "print(df.info())\n",
    "print(df.head())"
   ]
  },
  {
   "cell_type": "code",
   "execution_count": 61,
   "id": "26a4d08e-afb2-4db0-b3da-895cb82abd68",
   "metadata": {},
   "outputs": [],
   "source": [
    "# Define X and y\n",
    "X = df.drop(columns=['target'])  \n",
    "y = df['target'] "
   ]
  },
  {
   "cell_type": "code",
   "execution_count": 62,
   "id": "26abfd13-2e3d-420c-8d54-24062994a6ef",
   "metadata": {},
   "outputs": [
    {
     "data": {
      "text/html": [
       "<div>\n",
       "<style scoped>\n",
       "    .dataframe tbody tr th:only-of-type {\n",
       "        vertical-align: middle;\n",
       "    }\n",
       "\n",
       "    .dataframe tbody tr th {\n",
       "        vertical-align: top;\n",
       "    }\n",
       "\n",
       "    .dataframe thead th {\n",
       "        text-align: right;\n",
       "    }\n",
       "</style>\n",
       "<table border=\"1\" class=\"dataframe\">\n",
       "  <thead>\n",
       "    <tr style=\"text-align: right;\">\n",
       "      <th></th>\n",
       "      <th>age</th>\n",
       "      <th>sex</th>\n",
       "      <th>cp</th>\n",
       "      <th>trestbps</th>\n",
       "      <th>chol</th>\n",
       "      <th>fbs</th>\n",
       "      <th>restecg</th>\n",
       "      <th>thalach</th>\n",
       "      <th>exang</th>\n",
       "      <th>oldpeak</th>\n",
       "      <th>slope</th>\n",
       "      <th>ca</th>\n",
       "      <th>thal</th>\n",
       "    </tr>\n",
       "  </thead>\n",
       "  <tbody>\n",
       "    <tr>\n",
       "      <th>0</th>\n",
       "      <td>52</td>\n",
       "      <td>1</td>\n",
       "      <td>0</td>\n",
       "      <td>125</td>\n",
       "      <td>212</td>\n",
       "      <td>0</td>\n",
       "      <td>1</td>\n",
       "      <td>168</td>\n",
       "      <td>0</td>\n",
       "      <td>1.0</td>\n",
       "      <td>2</td>\n",
       "      <td>2</td>\n",
       "      <td>3</td>\n",
       "    </tr>\n",
       "    <tr>\n",
       "      <th>1</th>\n",
       "      <td>53</td>\n",
       "      <td>1</td>\n",
       "      <td>0</td>\n",
       "      <td>140</td>\n",
       "      <td>203</td>\n",
       "      <td>1</td>\n",
       "      <td>0</td>\n",
       "      <td>155</td>\n",
       "      <td>1</td>\n",
       "      <td>3.1</td>\n",
       "      <td>0</td>\n",
       "      <td>0</td>\n",
       "      <td>3</td>\n",
       "    </tr>\n",
       "    <tr>\n",
       "      <th>2</th>\n",
       "      <td>70</td>\n",
       "      <td>1</td>\n",
       "      <td>0</td>\n",
       "      <td>145</td>\n",
       "      <td>174</td>\n",
       "      <td>0</td>\n",
       "      <td>1</td>\n",
       "      <td>125</td>\n",
       "      <td>1</td>\n",
       "      <td>2.6</td>\n",
       "      <td>0</td>\n",
       "      <td>0</td>\n",
       "      <td>3</td>\n",
       "    </tr>\n",
       "    <tr>\n",
       "      <th>3</th>\n",
       "      <td>61</td>\n",
       "      <td>1</td>\n",
       "      <td>0</td>\n",
       "      <td>148</td>\n",
       "      <td>203</td>\n",
       "      <td>0</td>\n",
       "      <td>1</td>\n",
       "      <td>161</td>\n",
       "      <td>0</td>\n",
       "      <td>0.0</td>\n",
       "      <td>2</td>\n",
       "      <td>1</td>\n",
       "      <td>3</td>\n",
       "    </tr>\n",
       "    <tr>\n",
       "      <th>4</th>\n",
       "      <td>62</td>\n",
       "      <td>0</td>\n",
       "      <td>0</td>\n",
       "      <td>138</td>\n",
       "      <td>294</td>\n",
       "      <td>1</td>\n",
       "      <td>1</td>\n",
       "      <td>106</td>\n",
       "      <td>0</td>\n",
       "      <td>1.9</td>\n",
       "      <td>1</td>\n",
       "      <td>3</td>\n",
       "      <td>2</td>\n",
       "    </tr>\n",
       "  </tbody>\n",
       "</table>\n",
       "</div>"
      ],
      "text/plain": [
       "   age  sex  cp  trestbps  chol  fbs  restecg  thalach  exang  oldpeak  slope  \\\n",
       "0   52    1   0       125   212    0        1      168      0      1.0      2   \n",
       "1   53    1   0       140   203    1        0      155      1      3.1      0   \n",
       "2   70    1   0       145   174    0        1      125      1      2.6      0   \n",
       "3   61    1   0       148   203    0        1      161      0      0.0      2   \n",
       "4   62    0   0       138   294    1        1      106      0      1.9      1   \n",
       "\n",
       "   ca  thal  \n",
       "0   2     3  \n",
       "1   0     3  \n",
       "2   0     3  \n",
       "3   1     3  \n",
       "4   3     2  "
      ]
     },
     "execution_count": 62,
     "metadata": {},
     "output_type": "execute_result"
    }
   ],
   "source": [
    "# Melihat kolom yang termasuk variable indepnden\n",
    "X.head()"
   ]
  },
  {
   "cell_type": "code",
   "execution_count": 63,
   "id": "0313e11c-7eca-4877-a3aa-003080ed469e",
   "metadata": {},
   "outputs": [
    {
     "data": {
      "text/plain": [
       "0    0\n",
       "1    0\n",
       "2    0\n",
       "3    0\n",
       "4    0\n",
       "Name: target, dtype: int64"
      ]
     },
     "execution_count": 63,
     "metadata": {},
     "output_type": "execute_result"
    }
   ],
   "source": [
    "# Melihat variabel dependen\n",
    "y.head()"
   ]
  },
  {
   "cell_type": "code",
   "execution_count": null,
   "id": "a6fadbca-9977-4b82-8126-f14bff6b6c0e",
   "metadata": {},
   "outputs": [],
   "source": [
    "# Mendefinisikan standard scaler\n",
    "scaler = StandardScaler()  \n",
    "X_scaled = scaler.fit_transform(X) "
   ]
  },
  {
   "cell_type": "markdown",
   "id": "3a5aaf16-9e3f-4f85-a6a7-d0478198940f",
   "metadata": {},
   "source": [
    "**Spliting data**\n",
    "\n",
    "Pisahkan dataset menjadi training dan testing dataset dengan perbandingan 80:20 dan random state 42!"
   ]
  },
  {
   "cell_type": "code",
   "execution_count": 65,
   "id": "82fa6f4a-e143-4edf-ac4c-268144dc5750",
   "metadata": {},
   "outputs": [
    {
     "name": "stdout",
     "output_type": "stream",
     "text": [
      "(226, 13)\n",
      "(57, 13)\n",
      "(226,)\n",
      "(57,)\n"
     ]
    }
   ],
   "source": [
    "# Mendefinisikan pemisahan data\n",
    "X_train, X_test, y_train, y_test = train_test_split(X, y, test_size=0.2, random_state=100)\n",
    "\n",
    "# Menampilkan hasil pemisahan berdasarkan kolom dan baris\n",
    "print(X_train.shape)\n",
    "print(X_test.shape)\n",
    "print(y_train.shape)\n",
    "print(y_test.shape)"
   ]
  },
  {
   "cell_type": "markdown",
   "id": "309491a0-8b75-45af-916b-46e690ffc710",
   "metadata": {},
   "source": [
    "**Pemodelan untuk Heart Disease Dataset**\n"
   ]
  },
  {
   "cell_type": "code",
   "execution_count": 66,
   "id": "1830864d-94b8-496e-846e-4afa5817627f",
   "metadata": {},
   "outputs": [],
   "source": [
    "# Menyiapkan libraries\n",
    "from sklearn.linear_model import LogisticRegression\n",
    "from sklearn.tree import DecisionTreeClassifier\n",
    "from sklearn.ensemble import RandomForestClassifier\n",
    "from sklearn.metrics import accuracy_score, precision_score, recall_score, roc_curve, roc_auc_score\n",
    "from sklearn.neural_network import MLPClassifier\n",
    "from sklearn.model_selection import GridSearchCV"
   ]
  },
  {
   "cell_type": "code",
   "execution_count": 67,
   "id": "b03bd9b1",
   "metadata": {},
   "outputs": [
    {
     "name": "stdout",
     "output_type": "stream",
     "text": [
      "The test accuracy score of Logistic Regression Classifier is  0.8245614035087719\n"
     ]
    }
   ],
   "source": [
    "# Inisialisasi model Logistic Regression\n",
    "clf = LogisticRegression()\n",
    "\n",
    "# Train the classifier\n",
    "clf.fit(X_train, y_train)\n",
    "\n",
    "# Prediksi pada data testing\n",
    "y_pred = clf.predict(X_test)\n",
    "\n",
    "# Menghitung dan mencetak akurasi\n",
    "print(\"The test accuracy score of Logistic Regression Classifier is \", accuracy_score(y_test, y_pred))"
   ]
  },
  {
   "cell_type": "code",
   "execution_count": 68,
   "id": "3e257d5d-5311-47d5-927e-45121c81af16",
   "metadata": {},
   "outputs": [
    {
     "name": "stdout",
     "output_type": "stream",
     "text": [
      "              precision    recall  f1-score   support\n",
      "\n",
      "           0       0.78      0.78      0.78        23\n",
      "           1       0.85      0.85      0.85        34\n",
      "\n",
      "    accuracy                           0.82        57\n",
      "   macro avg       0.82      0.82      0.82        57\n",
      "weighted avg       0.82      0.82      0.82        57\n",
      "\n"
     ]
    }
   ],
   "source": [
    "print(classification_report(y_test, y_pred))"
   ]
  },
  {
   "cell_type": "code",
   "execution_count": 69,
   "id": "c2f99f92",
   "metadata": {},
   "outputs": [
    {
     "name": "stdout",
     "output_type": "stream",
     "text": [
      "The test accuracy score of Decision Tree Classifier is  0.7543859649122807\n"
     ]
    }
   ],
   "source": [
    "clf = DecisionTreeClassifier(random_state=100)\n",
    "# train the classifier\n",
    "clf.fit(X_train, y_train)\n",
    "y_pred = clf.predict(X_test)\n",
    "# printing the test accuracy\n",
    "print(\"The test accuracy score of Decision Tree Classifier is \", accuracy_score(y_test, y_pred))"
   ]
  },
  {
   "cell_type": "code",
   "execution_count": 70,
   "id": "3e3c41eb-1025-4e1b-bf5a-7c3fc6641197",
   "metadata": {},
   "outputs": [
    {
     "name": "stdout",
     "output_type": "stream",
     "text": [
      "              precision    recall  f1-score   support\n",
      "\n",
      "           0       0.67      0.78      0.72        23\n",
      "           1       0.83      0.74      0.78        34\n",
      "\n",
      "    accuracy                           0.75        57\n",
      "   macro avg       0.75      0.76      0.75        57\n",
      "weighted avg       0.77      0.75      0.76        57\n",
      "\n"
     ]
    }
   ],
   "source": [
    "print(classification_report(y_test, y_pred))"
   ]
  },
  {
   "cell_type": "code",
   "execution_count": 71,
   "id": "74addfa4",
   "metadata": {},
   "outputs": [
    {
     "name": "stdout",
     "output_type": "stream",
     "text": [
      "The test accuracy score of Random Forest Classifier is  0.8596491228070176\n"
     ]
    }
   ],
   "source": [
    "clf = RandomForestClassifier(random_state=100)\n",
    "# train the classifier\n",
    "clf.fit(X_train, y_train)\n",
    "y_pred = clf.predict(X_test)\n",
    "# printing the test accuracy\n",
    "print(\"The test accuracy score of Random Forest Classifier is \", accuracy_score(y_test, y_pred))"
   ]
  },
  {
   "cell_type": "code",
   "execution_count": 72,
   "id": "67cdbac4-4b33-41db-96cb-3ad7bcb2c0b7",
   "metadata": {},
   "outputs": [
    {
     "name": "stdout",
     "output_type": "stream",
     "text": [
      "              precision    recall  f1-score   support\n",
      "\n",
      "           0       0.83      0.83      0.83        23\n",
      "           1       0.88      0.88      0.88        34\n",
      "\n",
      "    accuracy                           0.86        57\n",
      "   macro avg       0.85      0.85      0.85        57\n",
      "weighted avg       0.86      0.86      0.86        57\n",
      "\n"
     ]
    }
   ],
   "source": [
    "print(classification_report(y_test, y_pred))"
   ]
  },
  {
   "cell_type": "code",
   "execution_count": 73,
   "id": "4430a9fc",
   "metadata": {},
   "outputs": [
    {
     "name": "stdout",
     "output_type": "stream",
     "text": [
      "The test accuracy score of MLP Classifier is  0.8596491228070176\n"
     ]
    }
   ],
   "source": [
    "from sklearn.neural_network import MLPClassifier\n",
    "\n",
    "clf = MLPClassifier(random_state=100, max_iter=1000)\n",
    "# train the classifier\n",
    "clf.fit(X_train, y_train)\n",
    "y_pred = clf.predict(X_test)\n",
    "# printing the test accuracy\n",
    "print(\"The test accuracy score of MLP Classifier is \", accuracy_score(y_test, y_pred))"
   ]
  },
  {
   "cell_type": "code",
   "execution_count": 74,
   "id": "a2658633-e3af-4371-857e-d4352b9fb9b0",
   "metadata": {},
   "outputs": [
    {
     "name": "stdout",
     "output_type": "stream",
     "text": [
      "              precision    recall  f1-score   support\n",
      "\n",
      "           0       0.94      0.70      0.80        23\n",
      "           1       0.82      0.97      0.89        34\n",
      "\n",
      "    accuracy                           0.86        57\n",
      "   macro avg       0.88      0.83      0.85        57\n",
      "weighted avg       0.87      0.86      0.85        57\n",
      "\n"
     ]
    }
   ],
   "source": [
    "print(classification_report(y_test, y_pred))"
   ]
  },
  {
   "cell_type": "markdown",
   "id": "9dc7273e-250a-470d-bac2-7c74ec6a02d4",
   "metadata": {},
   "source": [
    "**Membandingkan hasil diatas**\n",
    "\n",
    "Berdasarkan hasil ke-4 model (Random Forest, Logistic Regression, Decision Tree dan Multi-layer Perceptron). Berikut didapatkan akurasi pada proses kali ini:\n",
    "- Pada model Decision Tree memiliki nilai akurasi terkecil sebesar 75% dengan recall sebesar 76%.\n",
    "- Random Forest memiliki nilai akurasi terbesar sebesar 86% dengan recall 85%."
   ]
  },
  {
   "cell_type": "markdown",
   "id": "a2c329fc-9d40-44f8-8886-f45101357c1e",
   "metadata": {},
   "source": [
    "Dalam kasus prediksi ini, saya ingin menghindari false negatives sebanyak mungkin. Kasus false negative berarti masalah gagal jantung tidak terdeteksi, yang bisa sangat berbahaya. \n",
    "\n",
    "**Proses Hyperparameter Tuning**"
   ]
  },
  {
   "cell_type": "code",
   "execution_count": 75,
   "id": "dc77a05a",
   "metadata": {},
   "outputs": [
    {
     "name": "stdout",
     "output_type": "stream",
     "text": [
      "{'max_iter': 100, 'multi_class': 'auto', 'solver': 'lbfgs'}\n",
      "0.9114571428571429\n"
     ]
    }
   ],
   "source": [
    "# Logistic regression classifier with hyperparameter\n",
    "clf = LogisticRegression(random_state=100)\n",
    "param_grid = {\n",
    "    'max_iter': [100, 200, 300],  # Jumlah maksimum iterasi untuk konvergensi\n",
    "    'multi_class': ['auto', 'ovr', 'multinomial'],  # Strategi untuk multiclass\n",
    "    'solver': ['liblinear', 'lbfgs', 'saga']  # Algoritma solver yang digunakan\n",
    "}\n",
    "gs1 = GridSearchCV(\n",
    "        estimator=clf,\n",
    "        param_grid=param_grid, \n",
    "        cv=5, \n",
    "        n_jobs=-1, \n",
    "        scoring='roc_auc'\n",
    "    )\n",
    "fit_clf_lg = gs1.fit(X_train, y_train)  # Melakukan fitting dengan data training\n",
    "print(fit_clf_lg.best_params_)  # Menampilkan parameter terbaik dari hasil GridSearch\n",
    "print(fit_clf_lg.best_score_)  # Menampilkan skor terbaik (AUC-ROC) dari hasil GridSearch"
   ]
  },
  {
   "cell_type": "code",
   "execution_count": 76,
   "id": "9aa1e0d8",
   "metadata": {},
   "outputs": [
    {
     "name": "stdout",
     "output_type": "stream",
     "text": [
      "              precision    recall  f1-score   support\n",
      "\n",
      "           0       0.78      0.78      0.78        23\n",
      "           1       0.85      0.85      0.85        34\n",
      "\n",
      "    accuracy                           0.82        57\n",
      "   macro avg       0.82      0.82      0.82        57\n",
      "weighted avg       0.82      0.82      0.82        57\n",
      "\n"
     ]
    }
   ],
   "source": [
    "y_pred = fit_clf_lg.predict(X_test)  # Melakukan prediksi pada data testing menggunakan model terbaik\n",
    "print(classification_report(y_test, y_pred))  # Menampilkan classification report berdasarkan hasil prediksi"
   ]
  },
  {
   "cell_type": "markdown",
   "id": "a161affb-d7a7-4843-8d95-a287e38d685d",
   "metadata": {},
   "source": [
    "Setelah dilakukan hyperparameter tuning model logistic regression tidak terjadi kenaikan dalam nilai akurasi. Nilai akurasinya masih di 82%"
   ]
  },
  {
   "cell_type": "code",
   "execution_count": 77,
   "id": "13146062",
   "metadata": {},
   "outputs": [
    {
     "name": "stdout",
     "output_type": "stream",
     "text": [
      "{'criterion': 'gini', 'max_depth': 30, 'n_estimators': 100}\n",
      "0.9167857142857143\n"
     ]
    }
   ],
   "source": [
    "# Random Forest classifier with hyperparameter\n",
    "clf = RandomForestClassifier()\n",
    "param_grid = {'n_estimators': [50, 100, 200],  # Jumlah trees dalam random forest\n",
    "               'max_depth': [None, 10, 20, 30],  # Kedalaman maksimum dari tree\n",
    "               'criterion': ['gini', 'entropy']}  # Fungsi untuk mengukur kualitas split\n",
    "gs1 = GridSearchCV(\n",
    "        estimator=clf,\n",
    "        param_grid=param_grid, \n",
    "        cv=5, \n",
    "        n_jobs=-1, \n",
    "        scoring='roc_auc'\n",
    "    )\n",
    "fit_clf_rf = gs1.fit(X_train, y_train)  # Melakukan fitting dengan data training\n",
    "print(fit_clf_rf.best_params_)  # Menampilkan parameter terbaik dari hasil GridSearch\n",
    "print(fit_clf_rf.best_score_)  # Menampilkan skor terbaik (AUC-ROC) dari hasil GridSearch"
   ]
  },
  {
   "cell_type": "code",
   "execution_count": 78,
   "id": "c4fb0bfe-1186-406a-a30c-892440bfd2bd",
   "metadata": {},
   "outputs": [
    {
     "name": "stdout",
     "output_type": "stream",
     "text": [
      "              precision    recall  f1-score   support\n",
      "\n",
      "           0       0.89      0.74      0.81        23\n",
      "           1       0.84      0.94      0.89        34\n",
      "\n",
      "    accuracy                           0.86        57\n",
      "   macro avg       0.87      0.84      0.85        57\n",
      "weighted avg       0.86      0.86      0.86        57\n",
      "\n"
     ]
    }
   ],
   "source": [
    "y_pred = fit_clf_rf.predict(X_test)  # Melakukan prediksi pada data testing menggunakan model terbaik\n",
    "print(classification_report(y_test, y_pred))  # Menampilkan classification report berdasarkan hasil prediksi"
   ]
  },
  {
   "cell_type": "markdown",
   "id": "73f89beb-6466-49c2-860e-f2e8a5d44a2c",
   "metadata": {},
   "source": [
    "Setelah dilakukan model random forest dilakukan hyperparameter tuning akurasi model tidak mengalami kenaikan atau penurunan yaitu di 86%"
   ]
  },
  {
   "cell_type": "code",
   "execution_count": 79,
   "id": "106b7b30",
   "metadata": {},
   "outputs": [
    {
     "name": "stdout",
     "output_type": "stream",
     "text": [
      "{'criterion': 'gini', 'max_depth': 20, 'min_samples_leaf': 10}\n",
      "0.849079365079365\n"
     ]
    }
   ],
   "source": [
    "\n",
    "# Decision Tree classifier with hyperparameter\n",
    "clf = DecisionTreeClassifier()\n",
    "param_grid = {'min_samples_leaf': [1, 5, 10],  # Jumlah sampel minimum yang diperlukan untuk berada di leaf node\n",
    "               'max_depth': [None, 10, 20, 30],  # Kedalaman maksimum dari tree\n",
    "               'criterion': ['gini', 'entropy']}  # Fungsi untuk mengukur kualitas split\n",
    "gs1 = GridSearchCV(\n",
    "        estimator=clf,\n",
    "        param_grid=param_grid, \n",
    "        cv=5, \n",
    "        n_jobs=-1, \n",
    "        scoring='roc_auc'\n",
    "    )\n",
    "fit_clf_dt = gs1.fit(X_train, y_train)  # Melakukan fitting dengan data training\n",
    "print(fit_clf_dt.best_params_)  # Menampilkan parameter terbaik dari hasil GridSearch\n",
    "print(fit_clf_dt.best_score_)  # Menampilkan skor terbaik (AUC-ROC) dari hasil GridSearch"
   ]
  },
  {
   "cell_type": "code",
   "execution_count": 80,
   "id": "8b6c48d9-2504-47ad-b483-db973ff3ed32",
   "metadata": {},
   "outputs": [
    {
     "name": "stdout",
     "output_type": "stream",
     "text": [
      "              precision    recall  f1-score   support\n",
      "\n",
      "           0       0.73      0.70      0.71        23\n",
      "           1       0.80      0.82      0.81        34\n",
      "\n",
      "    accuracy                           0.77        57\n",
      "   macro avg       0.76      0.76      0.76        57\n",
      "weighted avg       0.77      0.77      0.77        57\n",
      "\n"
     ]
    }
   ],
   "source": [
    "y_pred = fit_clf_dt.predict(X_test)  # Melakukan prediksi pada data testing menggunakan model terbaik\n",
    "print(classification_report(y_test, y_pred))  # Menampilkan classification report berdasarkan hasil prediksi"
   ]
  },
  {
   "cell_type": "markdown",
   "id": "8aa9315c-b907-490b-96e8-8992506aa87e",
   "metadata": {},
   "source": [
    "Setelah dilakukan hyperparameter tuning model decision tree terjadi peningkatan pada nilai akurasi walaupun tidak begitu signifikan. Nilai akurasi naik dari yang awalnya 75% menjadi 77%."
   ]
  },
  {
   "cell_type": "code",
   "execution_count": 81,
   "id": "7f3c7ffa",
   "metadata": {},
   "outputs": [
    {
     "name": "stdout",
     "output_type": "stream",
     "text": [
      "{'activation': 'relu', 'hidden_layer_sizes': (50,), 'solver': 'adam'}\n",
      "0.9134666666666668\n"
     ]
    }
   ],
   "source": [
    "# MLP Classifier with hyperparameter\n",
    "clf = MLPClassifier(max_iter=1000, random_state=100)\n",
    "param_grid1 = {'hidden_layer_sizes': [(50,), (100,), (50, 50)],  # Jumlah neuron di setiap hidden layer\n",
    "               'activation': ['relu', 'tanh'],  # Fungsi aktivasi\n",
    "               'solver': ['adam', 'sgd']}  # Algoritma optimasi\n",
    "gs1 = GridSearchCV(\n",
    "        estimator=clf,\n",
    "        param_grid=param_grid1, \n",
    "        cv=5, \n",
    "        n_jobs=-1, \n",
    "        scoring='roc_auc'\n",
    "    )\n",
    "fit_clf_mlp = gs1.fit(X_train, y_train)  # Melakukan fitting dengan data training\n",
    "print(fit_clf_mlp.best_params_)  # Menampilkan parameter terbaik dari hasil GridSearch\n",
    "print(fit_clf_mlp.best_score_)  # Menampilkan skor terbaik (AUC-ROC) dari hasil GridSearch"
   ]
  },
  {
   "cell_type": "code",
   "execution_count": 82,
   "id": "2f046fd2-a912-4335-bd6a-c0bab0b6682d",
   "metadata": {},
   "outputs": [
    {
     "name": "stdout",
     "output_type": "stream",
     "text": [
      "              precision    recall  f1-score   support\n",
      "\n",
      "           0       0.94      0.65      0.77        23\n",
      "           1       0.80      0.97      0.88        34\n",
      "\n",
      "    accuracy                           0.84        57\n",
      "   macro avg       0.87      0.81      0.82        57\n",
      "weighted avg       0.86      0.84      0.84        57\n",
      "\n"
     ]
    }
   ],
   "source": [
    "y_pred = fit_clf_mlp.predict(X_test)  # Melakukan prediksi pada data testing menggunakan model terbaik\n",
    "print(classification_report(y_test, y_pred))  # Menampilkan classification report berdasarkan hasil prediksi"
   ]
  },
  {
   "cell_type": "markdown",
   "id": "d2224e4c-a21b-45c7-b4c1-41bcceb32c3d",
   "metadata": {},
   "source": [
    "Setelah dilakukan model random forest dilakukan hyperparameter tuning akurasi model menurun menjadi 84% dari yang awalnya 86%. Turunnya akurasi tersebut bukan menunjukkan hyperparameter tuning yang saya lakukan gagal, melainkan hyperparameter tuning yang saya lakukan berhasil karena dengan begitu model menjadi sedikit lebih general atau tidak overfitting."
   ]
  },
  {
   "cell_type": "markdown",
   "id": "4a9d7478-3ef7-44c6-b4db-d2d0e08520b4",
   "metadata": {},
   "source": [
    "**ROC Analysis**\n",
    "\n",
    "Tujuan untuk melakukan ROC Analysis yang saya lakukan adalah sebagai berikut :\n",
    "\n",
    "1. Mengukur kemampuan model dalam membedakan kelas positif & negatif.\n",
    "2.  Memilih threshold terbaik untuk kebutuhan spesifik.\n",
    "3.  Membandingkan model yang berbeda secara objektif.\n",
    "4.  Mengatasi masalah dataset tidak seimbang."
   ]
  },
  {
   "cell_type": "code",
   "execution_count": null,
   "id": "5a911780-06c1-4dde-bbdd-ee9c118daa46",
   "metadata": {},
   "outputs": [
    {
     "name": "stdout",
     "output_type": "stream",
     "text": [
      "AUC-ROC for Logistic Regression: 0.9028132992327367\n",
      "AUC-ROC for Random Forest: 0.8989769820971867\n",
      "AUC-ROC for Decision Tree: 0.8177749360613811\n",
      "AUC-ROC for MLP: 0.8836317135549872\n"
     ]
    }
   ],
   "source": [
    "# Predict the probabilities for the positive class\n",
    "y_pred_logreg = fit_clf_lg.predict_proba(X_test)[:, 1]  # Probabilitas kelas positif untuk Logistic Regression\n",
    "y_pred_rf = fit_clf_rf.predict_proba(X_test)[:, 1]  # Probabilitas kelas positif untuk Random Forest\n",
    "y_pred_dt = fit_clf_dt.predict_proba(X_test)[:, 1]  # Probabilitas kelas positif untuk Decision Tree\n",
    "y_pred_mlp = fit_clf_mlp.predict_proba(X_test)[:, 1]  # Probabilitas kelas positif untuk MLP\n",
    "\n",
    "# Calculate AUC-ROC scores\n",
    "auc_logreg = roc_auc_score(y_test, y_pred_logreg)  # AUC-ROC untuk Logistic Regression\n",
    "auc_rf = roc_auc_score(y_test, y_pred_rf)  # AUC-ROC untuk Random Forest\n",
    "auc_dt = roc_auc_score(y_test, y_pred_dt)  # AUC-ROC untuk Decision Tree\n",
    "auc_mlp = roc_auc_score(y_test, y_pred_mlp)  # AUC-ROC untuk MLP\n",
    "\n",
    "print(f\"AUC-ROC for Logistic Regression: {auc_logreg}\")\n",
    "print(f\"AUC-ROC for Random Forest: {auc_rf}\")\n",
    "print(f\"AUC-ROC for Decision Tree: {auc_dt}\")\n",
    "print(f\"AUC-ROC for MLP: {auc_mlp}\")"
   ]
  },
  {
   "cell_type": "markdown",
   "id": "48d8ab14-b0c8-4965-8ad3-218893ee24de",
   "metadata": {},
   "source": [
    "Jika dilihat dari nilai AUC-ROC, model Logistic Regression memiliki nilai yang paling tinggi. Akan tetapi perbedaan nilai AUC-ROC Logistic Regression dengan 1 model lainnya tidak terpaut jauh dengan Random Forest.\n",
    "\n",
    "ROC adalah kurva probabilitas dan AUC mewakili tingkat atau ukuran pemisahan. Ini menunjukkan seberapa baik model mampu membedakan antara kelas. Semakin tinggi AUC, semakin baik modelnya dalam memprediksi kelas 0 sebagai 0 dan kelas 1 sebagai 1.\n",
    "\n",
    "Kurva ROC digambarkan dengan TPR (True Positive Rate) melawan FPR (False Positive Rate) di mana TPR berada di sumbu y dan FPR berada di sumbu x.\n",
    "\n",
    "Model yang sangat baik memiliki AUC mendekati 1, yang berarti memiliki ukuran pemisahan yang baik. Model yang buruk memiliki AUC mendekati 0, yang berarti memiliki ukuran pemisahan yang terburuk.\n",
    "\n",
    "Ketika AUC adalah 0.9, artinya ada peluang sebesar 90% bahwa model akan mampu membedakan antara kelas positif dan kelas negatif. Ketika AUC mendekati 0.5, model tidak memiliki kemampuan diskriminasi untuk membedakan antara kelas positif dan kelas negatif. Ketika AUC mendekati 0, model memprediksi kelas negatif sebagai kelas positif dan sebaliknya."
   ]
  },
  {
   "cell_type": "code",
   "execution_count": 89,
   "id": "24e985ea",
   "metadata": {},
   "outputs": [
    {
     "data": {
      "image/png": "[encoded data removed]",
      "text/plain": [
       "<Figure size 800x600 with 1 Axes>"
      ]
     },
     "metadata": {},
     "output_type": "display_data"
    }
   ],
   "source": [
    "# Membuat ROC Analisis\n",
    "def plot_roc_curves(y_test, y_pred_logreg, y_pred_rf, y_pred_dt, y_pred_mlp):\n",
    "    plt.figure(figsize=(8, 6))\n",
    "    # Calculate ROC curves for each model\n",
    "    fpr_logreg, tpr_logreg, _ = roc_curve(y_test, y_pred_logreg)\n",
    "    fpr_rf, tpr_rf, _ = roc_curve(y_test, y_pred_rf)\n",
    "    fpr_dt, tpr_dt, _ = roc_curve(y_test, y_pred_dt)\n",
    "    fpr_mlp, tpr_mlp, _ = roc_curve(y_test, y_pred_mlp)\n",
    "    # Plot ROC curves\n",
    "    plt.plot(fpr_logreg, tpr_logreg, label=f'Logistic Regression (AUC = {auc_logreg:.2f})')\n",
    "    plt.plot(fpr_rf, tpr_rf, label=f'Random Forest (AUC = {auc_rf:.2f})')\n",
    "    plt.plot(fpr_dt, tpr_dt, label=f'Decision Tree (AUC = {auc_dt:.2f})')\n",
    "    plt.plot(fpr_mlp, tpr_mlp, label=f'MLP (AUC = {auc_mlp:.2f})')\n",
    "    # Plot random classifier\n",
    "    plt.plot([0, 1], [0, 1], 'k--', label='Random Classifier')\n",
    "    # Format the plot\n",
    "    plt.xlabel('False Positive Rate')\n",
    "    plt.ylabel('True Positive Rate')\n",
    "    plt.title('ROC Curves for Heart Disease Prediction Models')\n",
    "    plt.legend()\n",
    "    plt.show()\n",
    "\n",
    "plot_roc_curves(y_test, y_pred_logreg, y_pred_rf, y_pred_dt, y_pred_mlp)"
   ]
  },
  {
   "cell_type": "code",
   "execution_count": 90,
   "id": "820dbf85",
   "metadata": {},
   "outputs": [
    {
     "name": "stdout",
     "output_type": "stream",
     "text": [
      "    Threshold  Logistic Regression FPR  Logistic Regression TPR  \\\n",
      "0         0.0                 1.000000                 1.000000   \n",
      "1         0.1                 0.434783                 1.000000   \n",
      "2         0.2                 0.347826                 0.970588   \n",
      "3         0.3                 0.304348                 0.970588   \n",
      "4         0.4                 0.217391                 0.941176   \n",
      "5         0.5                 0.217391                 0.852941   \n",
      "6         0.6                 0.130435                 0.735294   \n",
      "7         0.7                 0.086957                 0.735294   \n",
      "8         0.8                 0.086957                 0.617647   \n",
      "9         0.9                 0.086957                 0.382353   \n",
      "10        1.0                 0.000000                 0.000000   \n",
      "\n",
      "    Random Forest FPR  Random Forest TPR  Decision Tree FPR  \\\n",
      "0            1.000000           1.000000           0.565217   \n",
      "1            0.652174           1.000000           0.521739   \n",
      "2            0.521739           1.000000           0.521739   \n",
      "3            0.478261           0.970588           0.391304   \n",
      "4            0.304348           0.941176           0.347826   \n",
      "5            0.260870           0.941176           0.304348   \n",
      "6            0.130435           0.794118           0.304348   \n",
      "7            0.130435           0.617647           0.130435   \n",
      "8            0.043478           0.441176           0.130435   \n",
      "9            0.043478           0.382353           0.086957   \n",
      "10           0.000000           0.000000           0.000000   \n",
      "\n",
      "    Decision Tree TPR   MLP FPR   MLP TPR  \n",
      "0            0.941176  1.000000  1.000000  \n",
      "1            0.941176  0.826087  1.000000  \n",
      "2            0.911765  0.521739  1.000000  \n",
      "3            0.911765  0.434783  1.000000  \n",
      "4            0.852941  0.391304  1.000000  \n",
      "5            0.823529  0.347826  0.970588  \n",
      "6            0.823529  0.304348  0.911765  \n",
      "7            0.558824  0.173913  0.852941  \n",
      "8            0.470588  0.130435  0.647059  \n",
      "9            0.382353  0.086957  0.382353  \n",
      "10           0.000000  0.000000  0.000000  \n"
     ]
    }
   ],
   "source": [
    "def find_rates_for_thresholds(y_test, y_pred, thresholds):\n",
    "    fpr_list = []\n",
    "    tpr_list = []\n",
    "    for threshold in thresholds:\n",
    "        y_pred_binary = (y_pred > threshold).astype(int)\n",
    "        tn, fp, fn, tp = confusion_matrix(y_test, y_pred_binary).ravel()\n",
    "        fpr = fp / (fp + tn)\n",
    "        tpr = tp / (tp + fn)\n",
    "        fpr_list.append(fpr)\n",
    "        tpr_list.append(tpr)\n",
    "    return fpr_list, tpr_list\n",
    "\n",
    "thresholds = np.arange(0, 1.1, 0.1)\n",
    "fpr_logreg, tpr_logreg = find_rates_for_thresholds(y_test, y_pred_logreg, thresholds)\n",
    "fpr_rf, tpr_rf = find_rates_for_thresholds(y_test, y_pred_rf, thresholds)\n",
    "fpr_dt, tpr_dt = find_rates_for_thresholds(y_test, y_pred_dt, thresholds)\n",
    "fpr_mlp, tpr_mlp = find_rates_for_thresholds(y_test, y_pred_mlp, thresholds)\n",
    "\n",
    "'''TODO: Silahkan buat Summary DataFrame'''\n",
    "summary_df = pd.DataFrame({\n",
    "    'Threshold': thresholds,\n",
    "    'Logistic Regression FPR': fpr_logreg,\n",
    "    'Logistic Regression TPR': tpr_logreg,\n",
    "    'Random Forest FPR': fpr_rf,\n",
    "    'Random Forest TPR': tpr_rf,\n",
    "    'Decision Tree FPR': fpr_dt,\n",
    "    'Decision Tree TPR': tpr_dt,\n",
    "    'MLP FPR': fpr_mlp,\n",
    "    'MLP TPR': tpr_mlp\n",
    "})\n",
    "print(summary_df)"
   ]
  },
  {
   "cell_type": "code",
   "execution_count": 91,
   "id": "b4bc0966",
   "metadata": {},
   "outputs": [
    {
     "name": "stdout",
     "output_type": "stream",
     "text": [
      "Best threshold for Logistic Regression: 0.4407938159903793\n",
      "Best threshold for Random Forest: 0.54\n",
      "Best threshold for Decision Tree: 0.36363636363636365\n",
      "Best threshold for MLP: 0.6184373759272304\n"
     ]
    }
   ],
   "source": [
    "from sklearn.metrics import roc_curve\n",
    "\n",
    "def find_best_threshold(y_test, y_pred):\n",
    "    # based on Youden's Index\n",
    "    fpr, tpr, thresholds = roc_curve(y_test, y_pred)\n",
    "    optimal_idx = np.argmax(tpr - fpr)  # Youden's Index: maximize (tpr - fpr)\n",
    "    return thresholds[optimal_idx]\n",
    "\n",
    "best_threshold_logreg = find_best_threshold(y_test, y_pred_logreg)\n",
    "best_threshold_rf = find_best_threshold(y_test, y_pred_rf)\n",
    "best_threshold_dt = find_best_threshold(y_test, y_pred_dt)\n",
    "best_threshold_mlp = find_best_threshold(y_test, y_pred_mlp)\n",
    "\n",
    "print(f\"Best threshold for Logistic Regression: {best_threshold_logreg}\")\n",
    "print(f\"Best threshold for Random Forest: {best_threshold_rf}\")\n",
    "print(f\"Best threshold for Decision Tree: {best_threshold_dt}\")\n",
    "print(f\"Best threshold for MLP: {best_threshold_mlp}\")"
   ]
  },
  {
   "cell_type": "markdown",
   "id": "ba5cc07e-e9bd-45d8-80b6-3ce8bda6e46a",
   "metadata": {},
   "source": [
    "\n",
    "\n",
    "Jadi dapat disimpulkan, bahwa model yang peformanya lebih bagus ialah model Random Forest dengan ditandai dengan model Random Forest yang memiliki nilai akurasi pada classification report tertinggi, yaitu sebesar 86% dan Model Random Forest memiliki score AUC-ROC Terbesar dibandingkan 3 model lainnya, yaitu sebesar 90%, namun model ini memiliki treshold yang tinggi dimana akan meningkatkan FPR (Kasus negatif yang salah diprediksi positif)."
   ]
  },
  {
   "cell_type": "code",
   "execution_count": 87,
   "id": "2a57e653",
   "metadata": {},
   "outputs": [],
   "source": [
    "import pickle\n",
    "\n",
    "# Menyimpan model terbaik dengan pickle\n",
    "pklname = 'best_model.pkl'  # Nama file untuk menyimpan model\n",
    "with open(pklname, 'wb') as file:  \n",
    "    pickle.dump(fit_clf_rf, file)  # Simpan model Random Forest terbaik (atau model lain yang diinginkan)"
   ]
  }
 ],
 "metadata": {
  "kernelspec": {
   "display_name": "Python 3",
   "language": "python",
   "name": "python3"
  },
  "language_info": {
   "codemirror_mode": {
    "name": "ipython",
    "version": 3
   },
   "file_extension": ".py",
   "mimetype": "text/x-python",
   "name": "python",
   "nbconvert_exporter": "python",
   "pygments_lexer": "ipython3",
   "version": "3.13.2"
  }
 },
 "nbformat": 4,
 "nbformat_minor": 5
}
